{
 "cells": [
  {
   "cell_type": "code",
   "execution_count": 5,
   "metadata": {},
   "outputs": [
    {
     "name": "stdout",
     "output_type": "stream",
     "text": [
      "2.12.0\n",
      "1/1 [==============================] - 3s 3s/step\n",
      "[('n02124075', 'Egyptian_cat', 0.48433593), ('n02123045', 'tabby', 0.34661096), ('n02123159', 'tiger_cat', 0.06137203)]\n"
     ]
    }
   ],
   "source": [
    "# TensorFlow and tf.keras\n",
    "import tensorflow as tf\n",
    "from tensorflow.keras.applications.resnet50 import preprocess_input, decode_predictions\n",
    "from tensorflow.keras.preprocessing import image\n",
    "# Helper libraries\n",
    "import numpy as np\n",
    "import matplotlib.pyplot as plt\n",
    "print(tf.__version__)\n",
    "img_path = r'C:\\Users\\hp388\\project working\\Raw Dataset\\Domestic Long Hair\\domesticLongHair_155.jpg'\n",
    "plt.show()\n",
    "img = image.load_img(img_path, target_size=(224, 224))\n",
    "img_array = image.img_to_array(img)\n",
    "img_batch = np.expand_dims(img_array, axis=0)\n",
    "img_preprocessed = preprocess_input(img_batch)\n",
    "model1 = tf.keras.applications.resnet50.ResNet50()\n",
    "prediction = model1.predict(img_preprocessed)\n",
    "print(decode_predictions(prediction, top=3)[0])"
   ]
  }
 ],
 "metadata": {
  "kernelspec": {
   "display_name": "Python 3 (ipykernel)",
   "language": "python",
   "name": "python3"
  },
  "orig_nbformat": 4
 },
 "nbformat": 4,
 "nbformat_minor": 2
}
